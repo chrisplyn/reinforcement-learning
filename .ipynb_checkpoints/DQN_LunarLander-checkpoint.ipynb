{
 "cells": [
  {
   "cell_type": "code",
   "execution_count": null,
   "metadata": {},
   "outputs": [],
   "source": [
    "import random\n",
    "import gym\n",
    "import numpy as np\n",
    "from collections import deque\n",
    "from keras.models import Sequential\n",
    "from keras.layers import Dense\n",
    "from keras import optimizers\n",
    "EPISODES = 5000"
   ]
  },
  {
   "cell_type": "code",
   "execution_count": null,
   "metadata": {},
   "outputs": [],
   "source": [
    "class DQNAgent:\n",
    "    def __init__(self, state_size, action_size):\n",
    "\n",
    "        # get size of state and action\n",
    "        self.state_size = state_size\n",
    "        self.action_size = action_size\n",
    "\n",
    "        self.discount_factor = 0.99\n",
    "        self.learning_rate = 0.001\n",
    "        self.epsilon = 1.0\n",
    "        self.epsilon_decay = 0.997\n",
    "        self.epsilon_min = 0.1005\n",
    "        self.sample_size = 32\n",
    "        self.train_start = 20000\n",
    "        # create replay memory using deque\n",
    "        self.memory = deque(maxlen=200000)\n",
    "        self.train_buffer = deque(maxlen=10240)\n",
    "        # create main model\n",
    "        self.model = self.build_model()\n",
    "\n",
    "    # approximate Q function using Neural Network\n",
    "    # state is input and Q Value of each action is output of network\n",
    "    def build_model(self):\n",
    "        model = Sequential()\n",
    "        model.add(Dense(32, input_dim=self.state_size, activation='relu',kernel_initializer='he_uniform'))\n",
    "        model.add(Dense(32, activation='relu',kernel_initializer='he_uniform'))\n",
    "        model.add(Dense(32, activation='relu',kernel_initializer='he_uniform'))\n",
    "        model.add(Dense(self.action_size, activation='linear',kernel_initializer='he_uniform'))\n",
    "        model.summary()\n",
    "        model.compile(loss='mse', optimizer=optimizers.Adam(lr=self.learning_rate))\n",
    "        return model\n",
    "\n",
    "    # get action from model using epsilon-greedy policy\n",
    "    def get_action(self, state):\n",
    "        if np.random.rand() <= self.epsilon:\n",
    "            return random.randrange(self.action_size)\n",
    "        else:\n",
    "            q_value = self.model.predict(state)\n",
    "            return np.argmax(q_value[0])\n",
    "\n",
    "    # save sample <s,a,r,s'> to the replay memory\n",
    "    def append_sample(self, state, action, reward, next_state, done):\n",
    "        self.memory.append((state, action, reward, next_state, done))\n",
    "\n",
    "    # pick samples randomly from replay memory (with batch_size)\n",
    "    def train_model(self):\n",
    "\n",
    "        #do training if buffer is full\n",
    "        if len(self.train_buffer) == self.train_buffer.maxlen:\n",
    "            batch_size = self.train_buffer.maxlen        \n",
    "            states = np.zeros((batch_size, self.state_size))\n",
    "            next_states = np.zeros((batch_size, self.state_size))\n",
    "            action, reward, done = [], [], []\n",
    "\n",
    "            for i in range(batch_size):\n",
    "                states[i] = self.train_buffer[i][0]\n",
    "                action.append(self.train_buffer[i][1])\n",
    "                reward.append(self.train_buffer[i][2])\n",
    "                next_states[i] = self.train_buffer[i][3]\n",
    "                done.append(self.train_buffer[i][4])\n",
    "\n",
    "            target = self.model.predict(states)\n",
    "            target_val = self.model.predict(next_states)\n",
    "\n",
    "            for i in range(batch_size):\n",
    "                # Q Learning: get maximum Q value at s' from target model\n",
    "                if done[i]:\n",
    "                    target[i][action[i]] = reward[i]\n",
    "                else:\n",
    "                    target[i][action[i]] = reward[i] + self.discount_factor * (\n",
    "                        np.amax(target_val[i]))\n",
    "\n",
    "            self.model.fit(states, target, 100, epochs=1, verbose=0)\n",
    "            self.train_buffer.clear()"
   ]
  },
  {
   "cell_type": "code",
   "execution_count": null,
   "metadata": {
    "scrolled": true
   },
   "outputs": [],
   "source": [
    "env = gym.make('LunarLander-v2')\n",
    "state_size = env.observation_space.shape[0]\n",
    "action_size = env.action_space.n\n",
    "agent = DQNAgent(state_size, action_size)\n",
    "scores, episodes = [], []\n",
    "action_count = 0\n",
    "\n",
    "for e in range(EPISODES):\n",
    "    done = False\n",
    "    score = 0\n",
    "    state = env.reset()\n",
    "    state = np.reshape(state, [1, state_size])\n",
    "    \n",
    "    while not done:\n",
    "        action = agent.get_action(state)        \n",
    "        next_state, reward, done, _ = env.step(action)\n",
    "        next_state = np.reshape(next_state, [1, state_size])             \n",
    "        agent.append_sample(state, action, reward, next_state, done)\n",
    "        \n",
    "        if len(agent.memory) > agent.train_start:                \n",
    "            action_count += 1\n",
    "        \n",
    "            if action_count == 4:\n",
    "                mini_batch = random.sample(agent.memory, agent.sample_size)\n",
    "                agent.train_buffer.extend(mini_batch)\n",
    "                action_count = 0\n",
    "                         \n",
    "        agent.train_model()        \n",
    "        score += reward\n",
    "        state = next_state\n",
    "        \n",
    "        if done:\n",
    "            if agent.epsilon > agent.epsilon_min:\n",
    "                agent.epsilon *= agent.epsilon_decay\n",
    "            scores.append(score)\n",
    "            episodes.append(e)\n",
    "            print(\"episode:\", e, \" score:\", score, \" epsilon:\", agent.epsilon,\" memory size:\", len(agent.memory))\n"
   ]
  },
  {
   "cell_type": "code",
   "execution_count": null,
   "metadata": {},
   "outputs": [],
   "source": [
    "res = []\n",
    "for i in range(len(scores)-100):\n",
    "    res.append(np.mean(scores[i:(i+100)]))"
   ]
  },
  {
   "cell_type": "code",
   "execution_count": null,
   "metadata": {},
   "outputs": [],
   "source": [
    "len(res)"
   ]
  },
  {
   "cell_type": "code",
   "execution_count": null,
   "metadata": {},
   "outputs": [],
   "source": [
    "import matplotlib.pyplot as plt\n",
    "plt.plot(res)\n",
    "plt.ylabel('Average Score of Consecutive 100 Episodes')\n",
    "plt.show()"
   ]
  },
  {
   "cell_type": "code",
   "execution_count": null,
   "metadata": {},
   "outputs": [],
   "source": [
    "plt.plot(scores)\n",
    "plt.ylabel('Score per Episode')\n",
    "plt.show()"
   ]
  },
  {
   "cell_type": "code",
   "execution_count": null,
   "metadata": {},
   "outputs": [],
   "source": [
    "tmp = np.array(res)"
   ]
  },
  {
   "cell_type": "code",
   "execution_count": null,
   "metadata": {},
   "outputs": [],
   "source": [
    "agent.model.save('DQN_model.h5')  # creates a HDF5 file 'my_model.h5'"
   ]
  },
  {
   "cell_type": "code",
   "execution_count": null,
   "metadata": {},
   "outputs": [],
   "source": []
  }
 ],
 "metadata": {
  "kernelspec": {
   "display_name": "Python 3",
   "language": "python",
   "name": "python3"
  },
  "language_info": {
   "codemirror_mode": {
    "name": "ipython",
    "version": 3
   },
   "file_extension": ".py",
   "mimetype": "text/x-python",
   "name": "python",
   "nbconvert_exporter": "python",
   "pygments_lexer": "ipython3",
   "version": "3.5.0"
  }
 },
 "nbformat": 4,
 "nbformat_minor": 2
}
